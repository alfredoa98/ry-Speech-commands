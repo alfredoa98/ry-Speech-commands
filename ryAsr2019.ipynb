{
 "cells": [
  {
   "cell_type": "markdown",
   "metadata": {},
   "source": [
    "# ryAsr2019\n",
    "\n",
    "### 00_prepareData\n",
    "### 01_trainModel\n",
    "### 02_RealTimeAsr\n"
   ]
  },
  {
   "cell_type": "markdown",
   "metadata": {},
   "source": [
    "### Source Data link \n",
    "\n",
    "#### there are 2 versions of this dataset\n",
    "\n",
    "#### version 1\n",
    "trainFiles= 'http://download.tensorflow.org/data/speech_commands_v0.01.tar.gz'\n",
    "\n",
    "testFiles=  'http://download.tensorflow.org/data/speech_commands_test_set_v0.01.tar.gz'\n",
    "#### ==> os.makedirs(\"sd_GSCmdV1/\")  \n",
    "\n",
    "\n",
    "#### version 2\n",
    "\n",
    "trainFiles= 'http://download.tensorflow.org/data/speech_commands_v0.02.tar.gz'\n",
    "\n",
    "testFiles=  'http://download.tensorflow.org/data/speech_commands_test_set_v0.02.tar.gz'\n",
    "\n",
    "\n",
    "#### In this project, we use version 2\n",
    "#### ==> os.makedirs(\"sd_GSCmdV2/\")   \n",
    "#### about 9,538,693,920 位元組\n"
   ]
  },
  {
   "cell_type": "code",
   "execution_count": 1,
   "metadata": {},
   "outputs": [],
   "source": [
    "%matplotlib inline"
   ]
  },
  {
   "cell_type": "code",
   "execution_count": null,
   "metadata": {},
   "outputs": [
    {
     "name": "stdout",
     "output_type": "stream",
     "text": [
      "Downloading http://download.tensorflow.org/data/speech_commands_test_set_v0.02.tar.gz into sd_GSCmdV2/test.tar.gz\n"
     ]
    },
    {
     "name": "stderr",
     "output_type": "stream",
     "text": [
      "110kKB [00:15, 7.22kKB/s]                                                                                              \n"
     ]
    },
    {
     "name": "stdout",
     "output_type": "stream",
     "text": [
      "Downloading http://download.tensorflow.org/data/speech_commands_v0.02.tar.gz into sd_GSCmdV2/train.tar.gz\n"
     ]
    },
    {
     "name": "stderr",
     "output_type": "stream",
     "text": [
      "2.37MKB [05:50, 6.76kKB/s]                                                                                             \n"
     ]
    },
    {
     "name": "stdout",
     "output_type": "stream",
     "text": [
      "Extracting sd_GSCmdV2/test.tar.gz into sd_GSCmdV2/test/\n",
      "Extracting sd_GSCmdV2/train.tar.gz into sd_GSCmdV2/train/\n"
     ]
    }
   ],
   "source": [
    "#### down load version 2 and process into a big speech file\n",
    "# aBigSpFile= 'ryGsc_sil1.npz' # about 3,395,045,262 位元組\n",
    "\n",
    "### run this file\n",
    "### _= 'ryPrepareDataset02.py'\n",
    "\n",
    "import ryPrepareDataset02"
   ]
  },
  {
   "cell_type": "code",
   "execution_count": null,
   "metadata": {},
   "outputs": [],
   "source": [
    "#### train aBigSpFile into a deep learning model aNNmodel \n",
    "# aNNmodel= 'ry_best_model1.hdf5'\n",
    "\n",
    "### run this file\n",
    "### _= 'ryLab00.py'\n",
    "\n",
    "import ryLab00"
   ]
  },
  {
   "cell_type": "code",
   "execution_count": null,
   "metadata": {},
   "outputs": [],
   "source": [
    "#### using aNNmodel, you can run a real-time speech recognition "
   ]
  },
  {
   "cell_type": "code",
   "execution_count": null,
   "metadata": {},
   "outputs": [],
   "source": [
    "### run this file\n",
    "### _= 'ryRealTimeAsr01.py'\n",
    "\n",
    "import ryRealTimeAsr01"
   ]
  },
  {
   "cell_type": "code",
   "execution_count": null,
   "metadata": {},
   "outputs": [],
   "source": []
  },
  {
   "cell_type": "code",
   "execution_count": null,
   "metadata": {},
   "outputs": [],
   "source": [
    "\n"
   ]
  },
  {
   "cell_type": "code",
   "execution_count": null,
   "metadata": {},
   "outputs": [],
   "source": []
  },
  {
   "cell_type": "code",
   "execution_count": null,
   "metadata": {},
   "outputs": [],
   "source": [
    "\n"
   ]
  },
  {
   "cell_type": "code",
   "execution_count": null,
   "metadata": {},
   "outputs": [],
   "source": []
  },
  {
   "cell_type": "code",
   "execution_count": null,
   "metadata": {},
   "outputs": [],
   "source": []
  },
  {
   "cell_type": "code",
   "execution_count": null,
   "metadata": {},
   "outputs": [],
   "source": []
  }
 ],
 "metadata": {
  "kernelspec": {
   "display_name": "Python 3",
   "language": "python",
   "name": "python3"
  },
  "language_info": {
   "codemirror_mode": {
    "name": "ipython",
    "version": 3
   },
   "file_extension": ".py",
   "mimetype": "text/x-python",
   "name": "python",
   "nbconvert_exporter": "python",
   "pygments_lexer": "ipython3",
   "version": "3.7.4"
  }
 },
 "nbformat": 4,
 "nbformat_minor": 2
}
