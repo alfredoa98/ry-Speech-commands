{
 "cells": [
  {
   "cell_type": "markdown",
   "metadata": {},
   "source": [
    "1. 下載資料"
   ]
  },
  {
   "cell_type": "code",
   "execution_count": 1,
   "metadata": {},
   "outputs": [
    {
     "name": "stdout",
     "output_type": "stream",
     "text": [
      "Google Speech commands dataset version 2 already exists. Skipping download.\n",
      "Converting test set WAVs to numpy files\n"
     ]
    },
    {
     "name": "stderr",
     "output_type": "stream",
     "text": [
      "0it [00:00, ?it/s]\n"
     ]
    },
    {
     "name": "stdout",
     "output_type": "stream",
     "text": [
      "Converting training set WAVs to numpy files\n"
     ]
    },
    {
     "name": "stderr",
     "output_type": "stream",
     "text": [
      "0it [00:00, ?it/s]\n"
     ]
    },
    {
     "name": "stdout",
     "output_type": "stream",
     "text": [
      "Done preparing Google Speech commands dataset version 2\n",
      "SpeechDownloader.PrepareGoogleSpeechCmd(), dt(sec)= 1.4956743717193604\n",
      "gscInfo.keys()= dict_keys(['train', 'test', 'val', 'testREAL']), nCategs= 36\n"
     ]
    }
   ],
   "source": [
    "import time\n",
    "import SpeechDownloader\n",
    "\n",
    "t0= time.time()\n",
    "\n",
    "gscInfo, nCategs= SpeechDownloader.PrepareGoogleSpeechCmd(\n",
    "        version= 2, \n",
    "        task= '35word')\n",
    "\n",
    "dt= time.time()-t0\n",
    "print('SpeechDownloader.PrepareGoogleSpeechCmd(), dt(sec)= {}'.format(dt))\n",
    "\n",
    "print('gscInfo.keys()= {}, nCategs= {}'.format(gscInfo.keys(), nCategs))\n"
   ]
  },
  {
   "attachments": {},
   "cell_type": "markdown",
   "metadata": {},
   "source": [
    "2. 觀賞資料\n",
    "\n",
    "![dataDir.png](./dataDir.png)\n",
    "\n",
    "![dataFile.png](./dataFile.png)\n",
    "\n"
   ]
  },
  {
   "cell_type": "markdown",
   "metadata": {},
   "source": [
    "3. 資料劃分： \n",
    "    在 train 資料夾之下，\n",
    "    先分為 validation_list, test_list, \n",
    "    其他才做為 train_list\n",
    "\n",
    "validation_list.txt=[\n",
    "- right/a69b9b3e_nohash_0.wav\n",
    "- right/439c84f4_nohash_1.wav\n",
    "- right/409c962a_nohash_1.wav\n",
    "- right/dbaf8fc6_nohash_2.wav\n",
    "- right/a6d586b7_nohash_1.wav\n",
    "- right/0e17f595_nohash_1.wav\n",
    "- right/ff2b842e_nohash_3.wav\n",
    "- right/7fd25f7c_nohash_2.wav\n",
    "- right/3cc595de_nohash_4.wav\n",
    "- right/591d32f3_nohash_0.wav\n",
    "- :\n",
    "- :\n",
    "]\n",
    "\n",
    "testing_list.txt=[\n",
    "- right/bb05582b_nohash_3.wav\n",
    "- right/97f4c236_nohash_2.wav\n",
    "- right/f2e59fea_nohash_3.wav\n",
    "- right/fdb5155e_nohash_2.wav\n",
    "- right/dc75148d_nohash_0.wav\n",
    "- right/3f170018_nohash_0.wav\n",
    "- right/18f8afd5_nohash_3.wav\n",
    "- right/e1469561_nohash_1.wav\n",
    "- right/5c8af87a_nohash_0.wav\n",
    "- right/aa48c94a_nohash_0.wav\n",
    "- :\n",
    "- :\n",
    "]\n"
   ]
  },
  {
   "cell_type": "raw",
   "metadata": {},
   "source": [
    "4. gscInfo \n",
    "\n",
    "是一個 dict tree, \n",
    "依 train, val, test, testREAL \n",
    "4種區分\n",
    "紀錄所有資料檔名(file names)、標籤(labels)"
   ]
  },
  {
   "cell_type": "code",
   "execution_count": null,
   "metadata": {
    "scrolled": true
   },
   "outputs": [],
   "source": [
    "type(gscInfo)  # dict\n",
    "gscInfo.keys() # dict_keys(['train', 'test', 'val', 'testREAL'])\n",
    "type(gscInfo['train']) # dic\n",
    "gscInfo['train'].keys() # dict_keys(['files', 'labels'])\n",
    "type(gscInfo['train']['files']) # list\n",
    "len(gscInfo['train']['files']) # 84849\n",
    "\n",
    "gscInfo['train']['files'][0:10]\n",
    "'''\n",
    "['sd_GSCmdV2/train/up/9a8d8d34_nohash_0.wav.npy',\n",
    " 'sd_GSCmdV2/train/stop/62605293_nohash_0.wav.npy',\n",
    " 'sd_GSCmdV2/train/off/a1cff772_nohash_1.wav.npy',\n",
    " 'sd_GSCmdV2/train/three/5b09db89_nohash_2.wav.npy',\n",
    " 'sd_GSCmdV2/train/bird/50d1c8e3_nohash_2.wav.npy',\n",
    " 'sd_GSCmdV2/train/two/5ab63b0a_nohash_0.wav.npy',\n",
    " 'sd_GSCmdV2/train/marvin/bfaf2000_nohash_1.wav.npy',\n",
    " 'sd_GSCmdV2/train/six/a04817c2_nohash_1.wav.npy',\n",
    " 'sd_GSCmdV2/train/eight/69953f48_nohash_0.wav.npy',\n",
    " 'sd_GSCmdV2/train/one/dcbfe008_nohash_0.wav.npy']\n",
    "'''\n",
    "\n",
    "gscInfo['train']['labels']\n",
    "'''\n",
    "{'sd_GSCmdV2/train/up/9a8d8d34_nohash_0.wav.npy': 4,\n",
    " 'sd_GSCmdV2/train/stop/62605293_nohash_0.wav.npy': 10,\n",
    " 'sd_GSCmdV2/train/off/a1cff772_nohash_1.wav.npy': 9,\n",
    " 'sd_GSCmdV2/train/three/5b09db89_nohash_2.wav.npy': 15,\n",
    " 'sd_GSCmdV2/train/bird/50d1c8e3_nohash_2.wav.npy': 23,\n",
    " 'sd_GSCmdV2/train/two/5ab63b0a_nohash_0.wav.npy': 14,\n",
    " 'sd_GSCmdV2/train/marvin/bfaf2000_nohash_1.wav.npy': 31,\n",
    " 'sd_GSCmdV2/train/six/a04817c2_nohash_1.wav.npy': 18,\n",
    " 'sd_GSCmdV2/train/eight/69953f48_nohash_0.wav.npy': 20,\n",
    " 'sd_GSCmdV2/train/one/dcbfe008_nohash_0.wav.npy': 13,\n",
    " :\n",
    " :\n",
    "'''"
   ]
  },
  {
   "cell_type": "code",
   "execution_count": null,
   "metadata": {},
   "outputs": [],
   "source": [
    "for s in gscInfo.keys(): \n",
    "    for t in gscInfo[s].keys():\n",
    "        a= '{}, {}, len= {} '.format(s,t,len(gscInfo[s][t]))\n",
    "        print(a)\n",
    "_='''\n",
    "train, files, len= 84849 \n",
    "train, labels, len= 84849 \n",
    "test, files, len= 11005 \n",
    "test, labels, len= 11005 \n",
    "val, files, len= 9981 \n",
    "val, labels, len= 9981 \n",
    "testREAL, files, len= 4890 \n",
    "testREAL, labels, len= 4890 \n",
    "110725\n",
    "'''\n",
    "# 84849+11005+9981+4890==110725        "
   ]
  },
  {
   "cell_type": "code",
   "execution_count": null,
   "metadata": {
    "scrolled": true
   },
   "outputs": [],
   "source": [
    "gscInfo\n",
    "\n",
    "_= '''\n",
    "{'train': {'files': ['sd_GSCmdV2/train/up/9a8d8d34_nohash_0.wav.npy',\n",
    "   'sd_GSCmdV2/train/stop/62605293_nohash_0.wav.npy',\n",
    "   'sd_GSCmdV2/train/off/a1cff772_nohash_1.wav.npy',\n",
    "   'sd_GSCmdV2/train/three/5b09db89_nohash_2.wav.npy',\n",
    "   'sd_GSCmdV2/train/bird/50d1c8e3_nohash_2.wav.npy',\n",
    "   'sd_GSCmdV2/train/two/5ab63b0a_nohash_0.wav.npy',\n",
    "   'sd_GSCmdV2/train/marvin/bfaf2000_nohash_1.wav.npy',\n",
    "   :\n",
    "   :\n",
    "'''"
   ]
  },
  {
   "cell_type": "code",
   "execution_count": 42,
   "metadata": {},
   "outputs": [],
   "source": [
    "import numpy as np\n",
    "import pylab as pl\n",
    "\n",
    "x0= np.load('sd_GSCmdV2/train/up/9a8d8d34_nohash_0.wav.npy')\n",
    "\n",
    "fn= gscInfo['train']['files'][1]\n",
    "x1= np.load(fn)\n",
    "\n",
    "fn= gscInfo['train']['files'][-1]\n",
    "x2= np.load(fn)"
   ]
  },
  {
   "cell_type": "code",
   "execution_count": 54,
   "metadata": {},
   "outputs": [
    {
     "data": {
      "text/plain": [
       "((16000,),\n",
       " dtype('float32'),\n",
       " <matplotlib.axes._subplots.AxesSubplot at 0x231eccf3548>,\n",
       " [<matplotlib.lines.Line2D at 0x231ecd2e308>])"
      ]
     },
     "execution_count": 54,
     "metadata": {},
     "output_type": "execute_result"
    },
    {
     "data": {
      "image/png": "[encoded data removed]",
      "text/plain": [
       "<Figure size 432x288 with 2 Axes>"
      ]
     },
     "metadata": {
      "needs_background": "light"
     },
     "output_type": "display_data"
    }
   ],
   "source": [
    "x0.shape, x0.dtype, pl.subplot(2,1,1), pl.plot(x0)\n",
    "x2.shape, x2.dtype, pl.subplot(2,1,2), pl.plot(x2)"
   ]
  },
  {
   "cell_type": "code",
   "execution_count": 55,
   "metadata": {},
   "outputs": [],
   "source": [
    "import sounddevice as sd\n",
    "\n",
    "sd.play(x0, samplerate=16000)\n",
    "sd.wait()\n",
    "sd.play(x2, samplerate=16000)\n",
    "sd.wait()\n"
   ]
  },
  {
   "cell_type": "code",
   "execution_count": 70,
   "metadata": {},
   "outputs": [
    {
     "data": {
      "text/plain": [
       "<matplotlib.image.AxesImage at 0x231ed4d3488>"
      ]
     },
     "execution_count": 70,
     "metadata": {},
     "output_type": "execute_result"
    },
    {
     "data": {
      "image/png": "[encoded data removed]",
      "text/plain": [
       "<Figure size 360x360 with 1 Axes>"
      ]
     },
     "metadata": {
      "needs_background": "light"
     },
     "output_type": "display_data"
    }
   ],
   "source": [
    "import librosa\n",
    "\n",
    "X= librosa.feature.melspectrogram(\n",
    "    x0, \n",
    "    sr=       16000, \n",
    "    n_fft=     1024, \n",
    "    hop_length= 128)\n",
    "\n",
    "X= np.log(X)\n",
    "\n",
    "pl.figure(figsize=(5,5))\n",
    "pl.imshow(X, origin= 'low')"
   ]
  },
  {
   "attachments": {},
   "cell_type": "markdown",
   "metadata": {},
   "source": []
  },
  {
   "cell_type": "code",
   "execution_count": null,
   "metadata": {
    "scrolled": false
   },
   "outputs": [],
   "source": [
    "# load all data into memory\n",
    "# 有些檔案長度不為 1 sec，要 normalize 成 1 sec= 16000\n",
    "\n",
    "\n",
    "def ryLengthNormalize(x, length=16000):\n",
    "    #curX could be bigger or smaller than self.dim\n",
    "    if len(x) == length:\n",
    "        X= x\n",
    "        #print('Same dim')\n",
    "    elif len(x) > length: #bigger\n",
    "        #we can choose any position in curX-self.dim\n",
    "        randPos= np.random.randint(len(x)-length)\n",
    "        X= x[randPos:randPos+length]\n",
    "        #print('File dim bigger')\n",
    "    else: #smaller\n",
    "        randPos= np.random.randint(length-len(x))\n",
    "        \n",
    "        X= np.random.random(length)*1e-10\n",
    "        \n",
    "        X[randPos:randPos+len(x)]= x\n",
    "        #print('File dim smaller')\n",
    "    return X\n",
    "    \n",
    "    \n",
    "\n",
    "\n",
    "\n",
    "from tqdm import tqdm\n",
    "import time\n",
    "\n",
    "t0= time.time()\n",
    "\n",
    "xT= []\n",
    "for s in tqdm(['testREAL', 'test', 'val', 'train']):\n",
    "    xL=[]\n",
    "    yL=[]\n",
    "    for fn in tqdm(gscInfo[s]['files']):\n",
    "\n",
    "        x= np.load(fn)\n",
    "        \n",
    "        x= ryLengthNormalize(x)\n",
    "        \n",
    "        \n",
    "        y= gscInfo[s]['labels'][fn]\n",
    "        xL+= [x]\n",
    "        yL+= [y]\n",
    "    xA= np.vstack(xL)\n",
    "    yA= np.array(yL)\n",
    "\n",
    "    xT+= [(xA, yA)]\n",
    "\n",
    "[(x_testREAL, y_testREAL),\n",
    "(x_test, y_test),\n",
    "(x_val, y_val),\n",
    "(x_train, y_train)]= xT\n",
    "\n",
    "dt= time.time()-t0\n",
    "\n",
    "print('load all data into memory ... dt(sec)= {}'.format(dt))\n",
    "\n",
    "# load all data into memory ... dt(sec)= 776 "
   ]
  },
  {
   "cell_type": "code",
   "execution_count": 73,
   "metadata": {},
   "outputs": [],
   "source": []
  },
  {
   "cell_type": "code",
   "execution_count": null,
   "metadata": {},
   "outputs": [],
   "source": []
  },
  {
   "cell_type": "code",
   "execution_count": 79,
   "metadata": {},
   "outputs": [],
   "source": [
    "#########################\n",
    "# ry Add silence in Train\n",
    "#########################\n",
    "import os\n",
    "import numpy as np\n",
    "\n",
    "allFiles= gscInfo['train']['files']\n",
    "def ryAddSilenceInTrain(allFiles):\n",
    "    \n",
    "    noiseL= [np.load(f) for f in allFiles  if '_background_noise_' in f]\n",
    "       \n",
    "    n=0\n",
    "    silenceL= []\n",
    "    for x in noiseL:\n",
    "        t=0\n",
    "        while (t+1)*16000 < x.size:\n",
    "            x1sec= x[t*16000:(t+1)*16000]\n",
    "            silenceL += [x1sec]\n",
    "            t+=1\n",
    "        n+=1\n",
    "\n",
    "    return silenceL\n",
    "        \n",
    "silenceL= ryAddSilenceInTrain(allFiles)\n",
    "\n",
    "x_silence= np.vstack(silenceL)\n",
    "y_silence= np.zeros(len(silenceL)).astype(np.int)\n",
    "\n",
    "x_train= np.vstack([x_train, x_silence])\n",
    "y_train= np.concatenate([y_train, y_silence])\n"
   ]
  },
  {
   "cell_type": "code",
   "execution_count": null,
   "metadata": {},
   "outputs": [],
   "source": [
    "### 壓縮檔案存出去，下次使用時可以節省時間"
   ]
  },
  {
   "cell_type": "code",
   "execution_count": 81,
   "metadata": {},
   "outputs": [
    {
     "name": "stdout",
     "output_type": "stream",
     "text": [
      "np.savez_compressed(), dt(sec)= 766.870103597641\n"
     ]
    }
   ],
   "source": [
    "# In[]\n",
    "t0= time.time()\n",
    "import os\n",
    "\n",
    "fn= 'ryGsc_sil1.npz'\n",
    "#if not os.path.isfile(fn):\n",
    "np.savez_compressed(\n",
    "    fn, \n",
    "    x_test=     x_test, \n",
    "    y_test=     y_test,\n",
    "    x_testREAL= x_testREAL,\n",
    "    y_testREAL= y_testREAL,\n",
    "    x_train=    x_train, \n",
    "    y_train=    y_train,\n",
    "    x_val=      x_val,\n",
    "    y_val=      y_val\n",
    "    )\n",
    "\n",
    "dt= time.time()-t0\n",
    "print('np.savez_compressed(), dt(sec)= {}'.format(dt))\n",
    "# np.savez_compressed(), dt(sec)= 779\n",
    "# np.savez_compressed(), dt(sec)= 767"
   ]
  },
  {
   "cell_type": "code",
   "execution_count": 83,
   "metadata": {},
   "outputs": [
    {
     "data": {
      "text/plain": [
       "3633104975"
      ]
     },
     "execution_count": 83,
     "metadata": {},
     "output_type": "execute_result"
    }
   ],
   "source": [
    "\n",
    "nByte = os.path.getsize(fn)\n",
    "nByte\n",
    "# 3,633,104,975"
   ]
  },
  {
   "cell_type": "code",
   "execution_count": null,
   "metadata": {},
   "outputs": [],
   "source": []
  }
 ],
 "metadata": {
  "kernelspec": {
   "display_name": "Python 3",
   "language": "python",
   "name": "python3"
  },
  "language_info": {
   "codemirror_mode": {
    "name": "ipython",
    "version": 3
   },
   "file_extension": ".py",
   "mimetype": "text/x-python",
   "name": "python",
   "nbconvert_exporter": "python",
   "pygments_lexer": "ipython3",
   "version": "3.7.4"
  }
 },
 "nbformat": 4,
 "nbformat_minor": 2
}
