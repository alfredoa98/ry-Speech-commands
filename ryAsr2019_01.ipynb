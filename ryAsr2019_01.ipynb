{
 "cells": [
  {
   "cell_type": "markdown",
   "metadata": {},
   "source": [
    "### 訓練 深度學習 模型\n",
    "\n",
    "* 獲取語音資料 ryGsc_sil1.npz\n",
    "* 設計深度學習模型 NNmodel\n",
    "* 運用語音資料反覆訓練出 模型中所有的參數 ==> ry_best_model1.hdf5\n"
   ]
  },
  {
   "cell_type": "code",
   "execution_count": 1,
   "metadata": {},
   "outputs": [
    {
     "name": "stdout",
     "output_type": "stream",
     "text": [
      ".... z= np.load(ryGsc_sil1.npz) will train into ry_best_model1.hdf5\n",
      "... z= np.load() ... dt(sec)= 41.688\n"
     ]
    }
   ],
   "source": [
    "# In[]\n",
    "import numpy as np\n",
    "import time\n",
    "\n",
    "fn= 'ryGsc_sil1.npz'\n",
    "fnModel= 'ry_best_model1.hdf5'\n",
    "\n",
    "print(\".... z= np.load({}) will train into {}\".format(fn, fnModel))\n",
    "\n",
    "t0= time.time()\n",
    "\n",
    "z= np.load(fn)\n",
    "\n",
    "x_test=     z['x_test']     \n",
    "y_test=     z['y_test']     \n",
    "x_testREAL= z['x_testREAL'] \n",
    "y_testREAL= z['y_testREAL'] \n",
    "x_train=    z['x_train']    \n",
    "y_train=    z['y_train']    \n",
    "x_val=      z['x_val']      \n",
    "y_val=      z['y_val']\n",
    "\n",
    "x_testREAL0= x_testREAL[y_testREAL==0]\n",
    "y_testREAL0= y_testREAL[y_testREAL==0]\n",
    "    \n",
    "x_testREAL1= x_testREAL[y_testREAL!=0]\n",
    "y_testREAL1= y_testREAL[y_testREAL!=0]\n",
    "\n",
    "#t0= time.time()\n",
    "dt= time.time()- t0\n",
    "print('... z= np.load() ... dt(sec)= {:.3f}'.format(dt))\n",
    "\n",
    "## z= np.load() ... dt(sec)= 75.36865901947021\n"
   ]
  },
  {
   "cell_type": "code",
   "execution_count": 3,
   "metadata": {},
   "outputs": [
    {
     "data": {
      "text/plain": [
       "((85245, 16000), (9981, 16000), (11005, 16000), (4890, 16000))"
      ]
     },
     "execution_count": 3,
     "metadata": {},
     "output_type": "execute_result"
    }
   ],
   "source": [
    "x_train.shape, x_val.shape, x_test.shape, x_testREAL.shape"
   ]
  },
  {
   "cell_type": "code",
   "execution_count": 4,
   "metadata": {},
   "outputs": [
    {
     "data": {
      "text/plain": [
       "((85245,), (9981,), (11005,), (4890,))"
      ]
     },
     "execution_count": 4,
     "metadata": {},
     "output_type": "execute_result"
    }
   ],
   "source": [
    "y_train.shape, y_val.shape, y_test.shape, y_testREAL.shape"
   ]
  },
  {
   "cell_type": "code",
   "execution_count": 8,
   "metadata": {},
   "outputs": [
    {
     "name": "stdout",
     "output_type": "stream",
     "text": [
      "Populating the interactive namespace from numpy and matplotlib\n"
     ]
    },
    {
     "data": {
      "image/png": "[encoded data removed]",
      "text/plain": [
       "<Figure size 432x288 with 1 Axes>"
      ]
     },
     "metadata": {
      "needs_background": "light"
     },
     "output_type": "display_data"
    }
   ],
   "source": [
    "%pylab inline\n",
    "import pylab as pl\n",
    "import sounddevice as sd\n",
    "x= x_train[0]\n",
    "pl.plot(x)\n",
    "sd.play(x, samplerate=16000)"
   ]
  },
  {
   "cell_type": "code",
   "execution_count": 9,
   "metadata": {},
   "outputs": [
    {
     "data": {
      "text/plain": [
       "\"\\nbatch_size= 1000  # 預防 gpu memory 不夠， 分批作業 \\nx= x_train[0:batch_size].astype(np.float32)\\nX= ryFeature(x)['log_mel_spectrogram']\\nX= X.numpy()\\n\""
      ]
     },
     "execution_count": 9,
     "metadata": {},
     "output_type": "execute_result"
    }
   ],
   "source": [
    "# doing the Feature Extraction, mel-scale spectrogram\n",
    "\n",
    "import tensorflow as tf\n",
    "\n",
    "def ryFeature(x, \n",
    "           sample_rate= 16000, \n",
    "           \n",
    "           frame_length= 1024,\n",
    "           frame_step=    128,  # frame_length//2\n",
    "           \n",
    "           num_mel_bins=     128,\n",
    "           lower_edge_hertz= 20,     # 0\n",
    "           upper_edge_hertz= 16000/2, # sample_rate/2   \n",
    "           \n",
    "           mfcc_dim= 13\n",
    "           ):\n",
    "    \n",
    "    stfts= tf.signal.stft(x, \n",
    "                          frame_length, #=  256, #1024, \n",
    "                          frame_step, #=    128,\n",
    "                          #fft_length= 1024\n",
    "                          pad_end=True\n",
    "                          )\n",
    "    \n",
    "    spectrograms=     tf.abs(stfts)\n",
    "    log_spectrograms= tf.math.log(spectrograms + 1e-10)\n",
    "    \n",
    "    # Warp the linear scale spectrograms into the mel-scale.\n",
    "    num_spectrogram_bins= stfts.shape[-1]  #.value\n",
    "    \n",
    "    linear_to_mel_weight_matrix= tf.signal.linear_to_mel_weight_matrix(\n",
    "          num_mel_bins, \n",
    "          num_spectrogram_bins, \n",
    "          sample_rate, \n",
    "          lower_edge_hertz,\n",
    "          upper_edge_hertz)\n",
    "    \n",
    "    mel_spectrograms= tf.tensordot(\n",
    "          spectrograms, \n",
    "          linear_to_mel_weight_matrix, 1)\n",
    "    \n",
    "    mel_spectrograms.set_shape(\n",
    "          spectrograms.shape[:-1].concatenate(\n",
    "              linear_to_mel_weight_matrix.shape[-1:]))\n",
    "    \n",
    "    # Compute a stabilized log to get log-magnitude mel-scale spectrograms.\n",
    "    log_mel_spectrograms= tf.math.log(mel_spectrograms + 1e-10)\n",
    "    \n",
    "    # Compute MFCCs from log_mel_spectrograms and take the first 13.\n",
    "    mfccs= tf.signal.mfccs_from_log_mel_spectrograms(\n",
    "          log_mel_spectrograms)[..., :mfcc_dim]\n",
    "    \n",
    "    feature= {'mfcc':               mfccs, \n",
    "              'log_mel_spectrogram':log_mel_spectrograms, \n",
    "              'log_spectrogram':    log_spectrograms, \n",
    "              'spectrogram':        spectrograms}\n",
    "    \n",
    "    return  feature\n",
    "\n",
    "\n",
    "_='''\n",
    "batch_size= 1000  # 預防 gpu memory 不夠， 分批作業 \n",
    "x= x_train[0:batch_size].astype(np.float32)\n",
    "X= ryFeature(x)['log_mel_spectrogram']\n",
    "X= X.numpy()\n",
    "'''\n"
   ]
  },
  {
   "cell_type": "code",
   "execution_count": 10,
   "metadata": {},
   "outputs": [],
   "source": [
    "import time\n",
    "\n",
    "import tensorflow as tf\n",
    "\n",
    "\n",
    "def get_all_fearure(all_x, batch_size= 1000):\n",
    "    t0= time.time()\n",
    "    \n",
    "    x= all_x.astype(np.float32)\n",
    "    \n",
    "    #batch_size= 1000  # 預防 gpu memory 不夠， 分批作業 \n",
    "    \n",
    "    i=0\n",
    "    XL=[]\n",
    "    while i < x.shape[0]:\n",
    "        \n",
    "        if i+batch_size<=x.shape[0]:\n",
    "            xx= x[i:i+batch_size]\n",
    "        else:\n",
    "            xx= x[i:]\n",
    "        \n",
    "        XX= ryFeature(xx)\n",
    "        X= XX['log_mel_spectrogram'] \n",
    "        #'log_spectrogram'] #'mfcc'] #'log_mel_spectrogram']\n",
    "        \n",
    "        X= X.numpy().astype(np.float32)\n",
    "        \n",
    "        i  += batch_size\n",
    "        XL += [X]\n",
    "    \n",
    "    XL= np.concatenate(XL)\n",
    "    print('XL.shape={}'.format(XL.shape))\n",
    "    \n",
    "    dt= time.time()-t0\n",
    "    print('tf.signal.stft, 執行時間 dt= {}'.format(dt))\n",
    "    \n",
    "    '''\n",
    "    XL.shape=(64721, 125, 129) # nTime= 16000/128, nFreq=256/2+1\n",
    "    tf.signal.stft, dt= 8.066392660140991\n",
    "    '''\n",
    "    return XL\n"
   ]
  },
  {
   "cell_type": "code",
   "execution_count": 11,
   "metadata": {},
   "outputs": [
    {
     "name": "stdout",
     "output_type": "stream",
     "text": [
      ".... get_all_fearure() .... \n",
      "XL.shape=(4890, 125, 128)\n",
      "tf.signal.stft, 執行時間 dt= 5.168047666549683\n",
      "XL.shape=(11005, 125, 128)\n",
      "tf.signal.stft, 執行時間 dt= 1.7962088584899902\n",
      "XL.shape=(9981, 125, 128)\n",
      "tf.signal.stft, 執行時間 dt= 1.6092772483825684\n",
      "XL.shape=(85245, 125, 128)\n",
      "tf.signal.stft, 執行時間 dt= 30.0707905292511\n",
      "... get_all_fearure() ... dt(sec)= 39.218\n"
     ]
    }
   ],
   "source": [
    "# In[]\n",
    "print('.... get_all_fearure() .... ')\n",
    "\n",
    "t0= time.time()\n",
    "\n",
    "X_testREAL= get_all_fearure(x_testREAL)\n",
    "X_test=     get_all_fearure(x_test)\n",
    "X_val=      get_all_fearure(x_val)\n",
    "X_train=    get_all_fearure(x_train)\n",
    "\n",
    "#t0= time.time()\n",
    "dt= time.time()- t0\n",
    "print('... get_all_fearure() ... dt(sec)= {:.3f}'.format(dt))\n",
    "\n",
    "### get_all_fearure() ... dt(sec)= 36.128026723861694\n",
    "### get_all_fearure() ... dt(sec)= 52.950\n",
    "# ... get_all_fearure() ... dt(sec)= 39.218"
   ]
  },
  {
   "cell_type": "code",
   "execution_count": null,
   "metadata": {},
   "outputs": [],
   "source": []
  },
  {
   "cell_type": "code",
   "execution_count": 13,
   "metadata": {},
   "outputs": [
    {
     "name": "stdout",
     "output_type": "stream",
     "text": [
      ".... normalize() ....\n"
     ]
    }
   ],
   "source": [
    "# In[]\n",
    "def normalize(x, axis= None):   \n",
    "    if axis== None:\n",
    "        x= (x-x.mean())/x.std()\n",
    "    else:\n",
    "        x= (x-x.mean(axis= axis))/x.std(axis= axis)\n",
    "    \n",
    "    return x\n",
    "\n",
    "# In[]\n",
    "print('.... normalize() ....')\n",
    "nTime, nFreq= X_train[0].shape\n",
    "\n",
    "X_train= X_train.reshape(-1, nTime, nFreq, 1).astype('float32') \n",
    "X_val=   X_val.reshape(-1, nTime, nFreq, 1).astype('float32') \n",
    "X_test=  X_test.reshape( -1, nTime, nFreq, 1).astype('float32') \n",
    "X_testREAL=  X_testREAL.reshape( -1, nTime, nFreq, 1).astype('float32') \n",
    "\n",
    "#'''  好像重複做了？！\n",
    "X_train=     normalize(X_train)#, axis=0)  # normalized for the all set, many utterence\n",
    "X_val=       normalize(X_val)#, axis=0)\n",
    "X_test=      normalize(X_test)#, axis=0)\n",
    "X_testREAL=  normalize(X_testREAL)#, axis=0)"
   ]
  },
  {
   "cell_type": "code",
   "execution_count": null,
   "metadata": {},
   "outputs": [],
   "source": []
  },
  {
   "cell_type": "code",
   "execution_count": 14,
   "metadata": {},
   "outputs": [],
   "source": [
    "import tensorflow as tf\n",
    "\n",
    "tf.keras.backend.clear_session()  \n",
    "# For easy reset of notebook state.\n",
    "\n",
    "from tensorflow              import keras\n",
    "from tensorflow.keras        import layers, Model\n",
    "from tensorflow.keras.layers import Input, Conv1D, MaxPooling1D, Flatten, Dense, Dropout\n",
    "from tensorflow.keras.layers import Conv2D, MaxPooling2D\n",
    "from tensorflow.keras.layers import AveragePooling1D\n",
    "\n",
    "from tensorflow.keras.callbacks import EarlyStopping, ModelCheckpoint"
   ]
  },
  {
   "cell_type": "code",
   "execution_count": null,
   "metadata": {},
   "outputs": [],
   "source": []
  },
  {
   "cell_type": "code",
   "execution_count": null,
   "metadata": {},
   "outputs": [],
   "source": [
    "# 設計深度學習模型 CNN"
   ]
  },
  {
   "cell_type": "code",
   "execution_count": 15,
   "metadata": {},
   "outputs": [
    {
     "name": "stdout",
     "output_type": "stream",
     "text": [
      "Model: \"model\"\n",
      "_________________________________________________________________\n",
      "Layer (type)                 Output Shape              Param #   \n",
      "=================================================================\n",
      "input_1 (InputLayer)         [(None, 125, 128, 1)]     0         \n",
      "_________________________________________________________________\n",
      "conv2d (Conv2D)              (None, 125, 128, 8)       2056      \n",
      "_________________________________________________________________\n",
      "max_pooling2d (MaxPooling2D) (None, 32, 32, 8)         0         \n",
      "_________________________________________________________________\n",
      "dropout (Dropout)            (None, 32, 32, 8)         0         \n",
      "_________________________________________________________________\n",
      "conv2d_1 (Conv2D)            (None, 32, 32, 16)        8208      \n",
      "_________________________________________________________________\n",
      "max_pooling2d_1 (MaxPooling2 (None, 8, 8, 16)          0         \n",
      "_________________________________________________________________\n",
      "dropout_1 (Dropout)          (None, 8, 8, 16)          0         \n",
      "_________________________________________________________________\n",
      "flatten (Flatten)            (None, 1024)              0         \n",
      "_________________________________________________________________\n",
      "dense (Dense)                (None, 256)               262400    \n",
      "_________________________________________________________________\n",
      "dropout_2 (Dropout)          (None, 256)               0         \n",
      "_________________________________________________________________\n",
      "dense_1 (Dense)              (None, 36)                9252      \n",
      "=================================================================\n",
      "Total params: 281,916\n",
      "Trainable params: 281,916\n",
      "Non-trainable params: 0\n",
      "_________________________________________________________________\n"
     ]
    }
   ],
   "source": [
    "nCategs= len(set(y_train)) #36 #c_train.size #36\n",
    "\n",
    "\n",
    "x= Input(shape= (nTime, nFreq, 1))\n",
    "\n",
    "h= x\n",
    "\n",
    "\n",
    "#'''\n",
    "h= Conv2D(8,   (16,16), activation='relu', padding='same')(h)\n",
    "h= MaxPooling2D((4,4), padding='same')(h)\n",
    "h= Dropout(0.2)(h)\n",
    "\n",
    "h= Conv2D(16,   (8,8), activation='relu', padding='same')(h)\n",
    "h= MaxPooling2D((4,4), padding='same')(h)\n",
    "h= Dropout(0.2)(h)\n",
    "\n",
    "h= Flatten()(h)\n",
    "\n",
    "h= Dense(256,  activation='relu')(h)\n",
    "h= Dropout(0.2)(h)\n",
    "\n",
    "\n",
    "h= Dense(nCategs,  activation='softmax')(h)\n",
    "\n",
    "y= h\n",
    "\n",
    "m= Model(inputs=  x, \n",
    "         outputs= y)\n",
    "\n",
    "m.summary()"
   ]
  },
  {
   "cell_type": "code",
   "execution_count": 17,
   "metadata": {},
   "outputs": [],
   "source": [
    "#keras.utils.plot_model(m, 'm.png', show_shapes=True)"
   ]
  },
  {
   "cell_type": "markdown",
   "metadata": {},
   "source": [
    "![m.png](./m.png)"
   ]
  },
  {
   "cell_type": "code",
   "execution_count": 18,
   "metadata": {},
   "outputs": [],
   "source": [
    "m.compile(  \n",
    "        loss=    'sparse_categorical_crossentropy',\n",
    "        metrics= ['accuracy'])\n",
    "\n",
    "\n",
    "es= EarlyStopping(\n",
    "        monitor=   'val_loss', \n",
    "        min_delta= 1e-10,\n",
    "        patience=  10, \n",
    "        mode=      'min', \n",
    "        verbose=   1) \n",
    "\n",
    "\n",
    "\n",
    "mc= ModelCheckpoint(fnModel, \n",
    "        monitor=    'val_accuracy', \n",
    "        verbose=    1, \n",
    "        save_best_only= True, \n",
    "        mode=      'max')"
   ]
  },
  {
   "cell_type": "markdown",
   "metadata": {},
   "source": [
    "### 開始訓練囉...."
   ]
  },
  {
   "cell_type": "code",
   "execution_count": null,
   "metadata": {
    "scrolled": true
   },
   "outputs": [],
   "source": [
    "t0= time.time()\n",
    "\n",
    "h= m.fit(X_train, y_train,\n",
    "         \n",
    "        batch_size=500, #1000, # 1000\n",
    "        epochs=    100,\n",
    "        \n",
    "        callbacks=[es, mc],\n",
    "        \n",
    "        #validation_split= 0.1\n",
    "        validation_data= (X_val, y_val)\n",
    "        )\n",
    "\n",
    "\n",
    "#t0= time.time()\n",
    "dt= time.time()- t0\n",
    "print('... h= m.fit() ... dt(sec)= {}'.format(dt))\n",
    "\n",
    "_= '''\n",
    "Epoch 00029: val_accuracy did not improve from 0.91544\n",
    "85245/85245 [==============================] - 15s 179us/sample - loss: 0.2870 - accuracy: 0.9101 - val_loss: 0.3144 - val_accuracy: 0.9154\n",
    "Epoch 00029: early stopping\n",
    "... h= m.fit() ... dt(sec)= 447.87419843673706\n",
    "'''"
   ]
  },
  {
   "cell_type": "code",
   "execution_count": 20,
   "metadata": {},
   "outputs": [
    {
     "data": {
      "image/png": "[encoded data removed]",
      "text/plain": [
       "<Figure size 432x288 with 1 Axes>"
      ]
     },
     "metadata": {
      "needs_background": "light"
     },
     "output_type": "display_data"
    }
   ],
   "source": [
    "# In[]\n",
    "import numpy as np\n",
    "from matplotlib import pyplot as pl\n",
    "v0= h.history['accuracy']\n",
    "v1= h.history['val_accuracy']\n",
    "pl.plot(v0, label='accuracy')\n",
    "pl.plot(v1, label='val_accuracy')\n",
    "pl.legend()\n",
    "pl.grid('on')\n",
    "pl.show()"
   ]
  },
  {
   "cell_type": "markdown",
   "metadata": {},
   "source": [
    "### 用 測試資料集合 X_test 來 評估 NN模型的正確率 (accuracy)"
   ]
  },
  {
   "cell_type": "code",
   "execution_count": 21,
   "metadata": {},
   "outputs": [
    {
     "name": "stdout",
     "output_type": "stream",
     "text": [
      "11005/1 - 1s - loss: 0.4900 - accuracy: 0.9067\n"
     ]
    },
    {
     "data": {
      "text/plain": [
       "[0.34178569991120444, 0.9066788]"
      ]
     },
     "execution_count": 21,
     "metadata": {},
     "output_type": "execute_result"
    }
   ],
   "source": [
    "m.evaluate(X_test,      y_test,      verbose=2)"
   ]
  },
  {
   "cell_type": "markdown",
   "metadata": {},
   "source": [
    "### 再用 另一組 測試資料 testREAL 來測試\n",
    "\n",
    "但這組資料有一些標錯的地方，我們把它隔離出來。\n",
    "\n"
   ]
  },
  {
   "cell_type": "code",
   "execution_count": 22,
   "metadata": {},
   "outputs": [
    {
     "name": "stdout",
     "output_type": "stream",
     "text": [
      "4074/1 - 1s - loss: 0.3143 - accuracy: 0.9065\n",
      "408/1 - 0s - loss: 0.4422 - accuracy: 0.9461\n",
      "408/1 - 0s - loss: 57.2946 - accuracy: 0.0025\n"
     ]
    },
    {
     "data": {
      "text/plain": [
       "[53.93811715817919, 0.0024509805]"
      ]
     },
     "execution_count": 22,
     "metadata": {},
     "output_type": "execute_result"
    }
   ],
   "source": [
    "#\n",
    "# testREAL 裡面，有 408 個  _silence_ 標為 0\n",
    "# 還有 408 個 各式語音 放在 _unknown_ 也被標示為 0 !!!\n",
    "#\n",
    "\n",
    "X_testREAL00= X_testREAL[y_testREAL==0][0:408]\n",
    "y_testREAL00= y_testREAL[y_testREAL==0][0:408]\n",
    "    \n",
    "X_testREAL01= X_testREAL[y_testREAL==0][408:]\n",
    "y_testREAL01= y_testREAL[y_testREAL==0][408:]\n",
    "\n",
    "X_testREAL1= X_testREAL[y_testREAL!=0]\n",
    "y_testREAL1= y_testREAL[y_testREAL!=0]\n",
    "  \n",
    "\n",
    "m.evaluate(X_testREAL1, y_testREAL1, verbose=2)   # 這個才算正常的 35 字 中的 大約 10 字\n",
    "m.evaluate(X_testREAL00, y_testREAL00, verbose=2) # 這個還可看看，_silence_ 的正確率\n",
    "m.evaluate(X_testREAL01, y_testREAL01, verbose=2) # 這個應該全錯，這叫做 標記錯誤，這小部分要重新安排！！！\n"
   ]
  },
  {
   "cell_type": "code",
   "execution_count": 23,
   "metadata": {},
   "outputs": [],
   "source": [
    "### 告一段落"
   ]
  },
  {
   "cell_type": "code",
   "execution_count": 24,
   "metadata": {},
   "outputs": [
    {
     "name": "stdout",
     "output_type": "stream",
     "text": [
      " ~~~ simulation session ended ~~~\n"
     ]
    }
   ],
   "source": [
    "\n",
    "print(' ~~~ simulation session ended ~~~')"
   ]
  },
  {
   "cell_type": "code",
   "execution_count": 25,
   "metadata": {},
   "outputs": [],
   "source": [
    "### 底下實作一個 用你真實的語音實際測試的範例，\n",
    "\n",
    "# In[]\n",
    "import numpy as np\n",
    "from tensorflow.keras.models import load_model\n",
    "import sounddevice as sd\n",
    "\n",
    "import audioUtils\n",
    "\n",
    "\n",
    "labels= np.array([\n",
    "        '_silence_', \n",
    "        'nine', \n",
    "        'yes', \n",
    "        'no', \n",
    "        'up', \n",
    "        'down', \n",
    "        'left', \n",
    "        'right',\n",
    "        'on', \n",
    "        'off', \n",
    "        'stop', \n",
    "        'go', \n",
    "        'zero', \n",
    "        'one', \n",
    "        'two', \n",
    "        'three', \n",
    "        'four',\n",
    "        'five', \n",
    "        'six', \n",
    "        'seven', \n",
    "        'eight', \n",
    "        'backward', \n",
    "        'bed', \n",
    "        'bird', \n",
    "        'cat',\n",
    "        'dog', \n",
    "        'follow', \n",
    "        'forward', \n",
    "        'happy', \n",
    "        'house', \n",
    "        'learn', \n",
    "        'marvin',\n",
    "        'sheila', \n",
    "        'tree', \n",
    "        'visual', \n",
    "        'wow'], \n",
    "        dtype='<U11')"
   ]
  },
  {
   "cell_type": "code",
   "execution_count": 28,
   "metadata": {},
   "outputs": [],
   "source": [
    "model= load_model(fnModel)\n",
    "\n",
    "'''\n",
    "classList= ['_silence_', 'nine', 'yes', 'no', 'up', 'down', 'left', 'right', 'on', 'off', 'stop', 'go',\n",
    "           'zero', 'one', 'two', 'three', 'four', 'five', 'six', \n",
    "           'seven',  'eight', 'backward', 'bed', 'bird', 'cat', 'dog',\n",
    "           'follow', 'forward', 'happy', 'house', 'learn', 'marvin', 'sheila', 'tree',\n",
    "           'visual', 'wow']\n",
    "'''\n",
    "\n",
    "classList= labels.tolist()\n",
    "\n",
    "def predict(x):#, fs=16000):\n",
    "    prob=  model.predict(x)#.reshape(1,fs,1))\n",
    "    index= np.argmax(prob[0])\n",
    "    y= labels[index]\n",
    "    return y\n",
    "\n",
    "def recWav(x, featureOut= False):\n",
    "    x= x.flatten()    \n",
    "\n",
    "    X= ryFeature(x)['log_mel_spectrogram']\n",
    "    \n",
    "    X= X.numpy().astype(np.float32)\n",
    "    \n",
    "    X= normalize(X)  # normalized for only one utterence x\n",
    "\n",
    "    Xin= X.reshape(1,X.shape[0],X.shape[1], 1)\n",
    "    y= predict(Xin)\n",
    "    \n",
    "    if featureOut == True:\n",
    "        return y, X\n",
    "    else:\n",
    "        return y"
   ]
  },
  {
   "cell_type": "code",
   "execution_count": 29,
   "metadata": {},
   "outputs": [
    {
     "name": "stdout",
     "output_type": "stream",
     "text": [
      "##########\n",
      "a Real-time Test..., \n",
      "press 【Enter】and speak out within 1 sec      \n",
      "the words are in the list of 35 words: \n",
      "\n",
      "###################\n",
      "['_silence_', 'nine', 'yes', 'no', 'up', 'down', 'left', 'right', 'on', 'off', 'stop', 'go', 'zero', 'one', 'two', 'three', 'four', 'five', 'six', 'seven', 'eight', 'backward', 'bed', 'bird', 'cat', 'dog', 'follow', 'forward', 'happy', 'house', 'learn', 'marvin', 'sheila', 'tree', 'visual', 'wow']\n",
      "###################\n",
      "\n",
      "PS: (you cannot say '_silence_', \n",
      "it just for \"silence\" \n",
      "or \"no sound\" \n",
      "or \"background noise\") \n",
      "\n",
      "press \"q\" to quit\n",
      "or another key to record 1 sec speech...\n",
      "\n",
      "y= 【yes】\n",
      "press \"q\" to quit\n",
      "or another key to record 1 sec speech...\n",
      "\n",
      "y= 【no】\n",
      "press \"q\" to quit\n",
      "or another key to record 1 sec speech...\n",
      "\n",
      "y= 【up】\n",
      "press \"q\" to quit\n",
      "or another key to record 1 sec speech...\n",
      "\n",
      "y= 【happy】\n",
      "press \"q\" to quit\n",
      "or another key to record 1 sec speech...\n",
      "\n",
      "y= 【house】\n",
      "press \"q\" to quit\n",
      "or another key to record 1 sec speech...\n",
      "q\n",
      "~~~the end~~~\n"
     ]
    }
   ],
   "source": [
    "\n",
    "print('''##########\n",
    "a Real-time Test..., \n",
    "press 【Enter】and speak out within 1 sec      \n",
    "the words are in the list of 35 words: \n",
    "\n",
    "###################\n",
    "{}\n",
    "###################\n",
    "\n",
    "PS: (you cannot say '_silence_', \n",
    "it just for \"silence\" \n",
    "or \"no sound\" \n",
    "or \"background noise\") \n",
    "'''.format(classList))\n",
    "\n",
    "\n",
    "    \n",
    "T=  1     # Duration of recording\n",
    "fs= 16000  # Sample rate\n",
    "\n",
    "xL= []\n",
    "for i in range(100):\n",
    "    \n",
    "    aKey= input('{}\\n{}\\n'.format(\n",
    "                'press \"q\" to quit', \n",
    "                'or another key to record 1 sec speech...'))\n",
    "    if aKey=='q':\n",
    "        print('~~~the end~~~')\n",
    "        break\n",
    "    \n",
    "    x= sd.rec(int(T*fs), \n",
    "            samplerate= fs, \n",
    "            channels= 1, \n",
    "            dtype='float32')\n",
    "        \n",
    "    sd.wait()  # Wait until recording is finished\n",
    "    \n",
    "    y= recWav(x)\n",
    "    \n",
    "    print('y= 【{}】'.format(y))\n",
    "\n",
    "    xL += [x]"
   ]
  },
  {
   "cell_type": "code",
   "execution_count": null,
   "metadata": {},
   "outputs": [],
   "source": []
  }
 ],
 "metadata": {
  "kernelspec": {
   "display_name": "Python 3",
   "language": "python",
   "name": "python3"
  },
  "language_info": {
   "codemirror_mode": {
    "name": "ipython",
    "version": 3
   },
   "file_extension": ".py",
   "mimetype": "text/x-python",
   "name": "python",
   "nbconvert_exporter": "python",
   "pygments_lexer": "ipython3",
   "version": "3.7.4"
  }
 },
 "nbformat": 4,
 "nbformat_minor": 2
}
